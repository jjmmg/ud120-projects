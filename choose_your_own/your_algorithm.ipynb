{
 "cells": [
  {
   "cell_type": "markdown",
   "metadata": {},
   "source": [
    "#!/usr/bin/python"
   ]
  },
  {
   "cell_type": "code",
   "execution_count": 135,
   "metadata": {
    "collapsed": false
   },
   "outputs": [],
   "source": [
    "import matplotlib.pyplot as plt\n",
    "from prep_terrain_data import makeTerrainData\n",
    "from class_vis import prettyPicture\n",
    "\n",
    "import numpy as np\n",
    "from sklearn.grid_search import ParameterGrid\n",
    "from sklearn.grid_search import GridSearchCV\n",
    "from sklearn.metrics import classification_report\n",
    "\n",
    "from sklearn.ensemble import AdaBoostClassifier\n",
    "from sklearn.ensemble import RandomForestClassifier\n",
    "from sklearn.neighbors import KNeighborsClassifier\n",
    "\n",
    "%matplotlib inline"
   ]
  },
  {
   "cell_type": "code",
   "execution_count": 2,
   "metadata": {
    "collapsed": true
   },
   "outputs": [],
   "source": [
    "features_train, labels_train, features_test, labels_test = makeTerrainData()\n",
    "### the training data (features_train, labels_train) have both \"fast\" and \"slow\"\n",
    "### points mixed together--separate them so we can give them different colors\n",
    "### in the scatterplot and identify them visually\n",
    "grade_fast = [features_train[ii][0] for ii in range(0, len(features_train)) if labels_train[ii]==0]\n",
    "bumpy_fast = [features_train[ii][1] for ii in range(0, len(features_train)) if labels_train[ii]==0]\n",
    "grade_slow = [features_train[ii][0] for ii in range(0, len(features_train)) if labels_train[ii]==1]\n",
    "bumpy_slow = [features_train[ii][1] for ii in range(0, len(features_train)) if labels_train[ii]==1]"
   ]
  },
  {
   "cell_type": "code",
   "execution_count": 3,
   "metadata": {
    "collapsed": false
   },
   "outputs": [
    {
     "data": {
      "image/png": "[encoded data removed]",
      "text/plain": [
       "<matplotlib.figure.Figure at 0x13b80da0>"
      ]
     },
     "metadata": {},
     "output_type": "display_data"
    }
   ],
   "source": [
    "#### initial visualization\n",
    "plt.xlim(0.0, 1.0)\n",
    "plt.ylim(0.0, 1.0)\n",
    "plt.scatter(bumpy_fast, grade_fast, color = \"b\", label=\"fast\")\n",
    "plt.scatter(grade_slow, bumpy_slow, color = \"r\", label=\"slow\")\n",
    "plt.legend()\n",
    "plt.xlabel(\"bumpiness\")\n",
    "plt.ylabel(\"grade\")\n",
    "plt.show()"
   ]
  },
  {
   "cell_type": "code",
   "execution_count": 4,
   "metadata": {
    "collapsed": true
   },
   "outputs": [],
   "source": [
    "def parameters_search(estimator, param_grid, features_train, labels_train, features_test, labels_test, score='accuracy', cv=5):\n",
    "    # Set the parameters by cross-validation\n",
    "    clf = GridSearchCV(estimator, param_grid, cv=cv, scoring=score)\n",
    "    clf.fit(features_train, labels_train)\n",
    "\n",
    "    print \"Best parameters set found on development set:\"\n",
    "    print \"%s --> accuracy = %s\" % (clf.best_params_, clf.score(features_test, labels_test))\n",
    "    print \"Grid scores on development set:\"\n",
    "    for params, mean_score, scores in clf.grid_scores_:\n",
    "        print \"%0.3f (+/-%0.03f) for %r\" % (mean_score, scores.std() * 3, params)\n",
    "    print \"Detailed classification report:\"\n",
    "    y_true, y_pred = labels_test, clf.predict(features_test)\n",
    "    print classification_report(y_true, y_pred)\n",
    "    return clf"
   ]
  },
  {
   "cell_type": "markdown",
   "metadata": {},
   "source": [
    "AdaBoostClassifier"
   ]
  },
  {
   "cell_type": "code",
   "execution_count": 133,
   "metadata": {
    "collapsed": false,
    "scrolled": true
   },
   "outputs": [
    {
     "name": "stdout",
     "output_type": "stream",
     "text": [
      "Best parameters set found on development set:\n",
      "{'n_estimators': 12, 'learning_rate': 1.0} --> accuracy = 0.924\n",
      "Grid scores on development set:\n",
      "0.788 (+/-0.057) for {'n_estimators': 2, 'learning_rate': 0.5}\n",
      "0.876 (+/-0.098) for {'n_estimators': 4, 'learning_rate': 0.5}\n",
      "0.943 (+/-0.046) for {'n_estimators': 6, 'learning_rate': 0.5}\n",
      "0.936 (+/-0.068) for {'n_estimators': 8, 'learning_rate': 0.5}\n",
      "0.939 (+/-0.046) for {'n_estimators': 10, 'learning_rate': 0.5}\n",
      "0.943 (+/-0.047) for {'n_estimators': 12, 'learning_rate': 0.5}\n",
      "0.948 (+/-0.064) for {'n_estimators': 14, 'learning_rate': 0.5}\n",
      "0.952 (+/-0.051) for {'n_estimators': 16, 'learning_rate': 0.5}\n",
      "0.947 (+/-0.051) for {'n_estimators': 18, 'learning_rate': 0.5}\n",
      "0.956 (+/-0.047) for {'n_estimators': 21, 'learning_rate': 0.5}\n",
      "0.952 (+/-0.045) for {'n_estimators': 23, 'learning_rate': 0.5}\n",
      "0.956 (+/-0.028) for {'n_estimators': 25, 'learning_rate': 0.5}\n",
      "0.957 (+/-0.024) for {'n_estimators': 27, 'learning_rate': 0.5}\n",
      "0.961 (+/-0.015) for {'n_estimators': 29, 'learning_rate': 0.5}\n",
      "0.959 (+/-0.029) for {'n_estimators': 31, 'learning_rate': 0.5}\n",
      "0.956 (+/-0.021) for {'n_estimators': 33, 'learning_rate': 0.5}\n",
      "0.956 (+/-0.021) for {'n_estimators': 35, 'learning_rate': 0.5}\n",
      "0.959 (+/-0.020) for {'n_estimators': 37, 'learning_rate': 0.5}\n",
      "0.960 (+/-0.033) for {'n_estimators': 40, 'learning_rate': 0.5}\n",
      "0.788 (+/-0.057) for {'n_estimators': 2, 'learning_rate': 0.59999999999999998}\n",
      "0.868 (+/-0.084) for {'n_estimators': 4, 'learning_rate': 0.59999999999999998}\n",
      "0.940 (+/-0.046) for {'n_estimators': 6, 'learning_rate': 0.59999999999999998}\n",
      "0.937 (+/-0.041) for {'n_estimators': 8, 'learning_rate': 0.59999999999999998}\n",
      "0.945 (+/-0.035) for {'n_estimators': 10, 'learning_rate': 0.59999999999999998}\n",
      "0.944 (+/-0.055) for {'n_estimators': 12, 'learning_rate': 0.59999999999999998}\n",
      "0.955 (+/-0.043) for {'n_estimators': 14, 'learning_rate': 0.59999999999999998}\n",
      "0.955 (+/-0.032) for {'n_estimators': 16, 'learning_rate': 0.59999999999999998}\n",
      "0.953 (+/-0.028) for {'n_estimators': 18, 'learning_rate': 0.59999999999999998}\n",
      "0.955 (+/-0.027) for {'n_estimators': 21, 'learning_rate': 0.59999999999999998}\n",
      "0.955 (+/-0.027) for {'n_estimators': 23, 'learning_rate': 0.59999999999999998}\n",
      "0.956 (+/-0.027) for {'n_estimators': 25, 'learning_rate': 0.59999999999999998}\n",
      "0.959 (+/-0.015) for {'n_estimators': 27, 'learning_rate': 0.59999999999999998}\n",
      "0.960 (+/-0.013) for {'n_estimators': 29, 'learning_rate': 0.59999999999999998}\n",
      "0.959 (+/-0.015) for {'n_estimators': 31, 'learning_rate': 0.59999999999999998}\n",
      "0.959 (+/-0.015) for {'n_estimators': 33, 'learning_rate': 0.59999999999999998}\n",
      "0.960 (+/-0.018) for {'n_estimators': 35, 'learning_rate': 0.59999999999999998}\n",
      "0.960 (+/-0.018) for {'n_estimators': 37, 'learning_rate': 0.59999999999999998}\n",
      "0.959 (+/-0.020) for {'n_estimators': 40, 'learning_rate': 0.59999999999999998}\n",
      "0.788 (+/-0.057) for {'n_estimators': 2, 'learning_rate': 0.69999999999999996}\n",
      "0.887 (+/-0.097) for {'n_estimators': 4, 'learning_rate': 0.69999999999999996}\n",
      "0.933 (+/-0.022) for {'n_estimators': 6, 'learning_rate': 0.69999999999999996}\n",
      "0.941 (+/-0.039) for {'n_estimators': 8, 'learning_rate': 0.69999999999999996}\n",
      "0.952 (+/-0.039) for {'n_estimators': 10, 'learning_rate': 0.69999999999999996}\n",
      "0.948 (+/-0.043) for {'n_estimators': 12, 'learning_rate': 0.69999999999999996}\n",
      "0.955 (+/-0.035) for {'n_estimators': 14, 'learning_rate': 0.69999999999999996}\n",
      "0.957 (+/-0.041) for {'n_estimators': 16, 'learning_rate': 0.69999999999999996}\n",
      "0.961 (+/-0.032) for {'n_estimators': 18, 'learning_rate': 0.69999999999999996}\n",
      "0.960 (+/-0.029) for {'n_estimators': 21, 'learning_rate': 0.69999999999999996}\n",
      "0.957 (+/-0.027) for {'n_estimators': 23, 'learning_rate': 0.69999999999999996}\n",
      "0.956 (+/-0.027) for {'n_estimators': 25, 'learning_rate': 0.69999999999999996}\n",
      "0.959 (+/-0.015) for {'n_estimators': 27, 'learning_rate': 0.69999999999999996}\n",
      "0.959 (+/-0.015) for {'n_estimators': 29, 'learning_rate': 0.69999999999999996}\n",
      "0.960 (+/-0.018) for {'n_estimators': 31, 'learning_rate': 0.69999999999999996}\n",
      "0.960 (+/-0.018) for {'n_estimators': 33, 'learning_rate': 0.69999999999999996}\n",
      "0.959 (+/-0.020) for {'n_estimators': 35, 'learning_rate': 0.69999999999999996}\n",
      "0.960 (+/-0.018) for {'n_estimators': 37, 'learning_rate': 0.69999999999999996}\n",
      "0.957 (+/-0.024) for {'n_estimators': 40, 'learning_rate': 0.69999999999999996}\n",
      "0.804 (+/-0.067) for {'n_estimators': 2, 'learning_rate': 0.80000000000000004}\n",
      "0.880 (+/-0.062) for {'n_estimators': 4, 'learning_rate': 0.80000000000000004}\n",
      "0.939 (+/-0.048) for {'n_estimators': 6, 'learning_rate': 0.80000000000000004}\n",
      "0.941 (+/-0.054) for {'n_estimators': 8, 'learning_rate': 0.80000000000000004}\n",
      "0.957 (+/-0.027) for {'n_estimators': 10, 'learning_rate': 0.80000000000000004}\n",
      "0.955 (+/-0.034) for {'n_estimators': 12, 'learning_rate': 0.80000000000000004}\n",
      "0.959 (+/-0.024) for {'n_estimators': 14, 'learning_rate': 0.80000000000000004}\n",
      "0.959 (+/-0.024) for {'n_estimators': 16, 'learning_rate': 0.80000000000000004}\n",
      "0.960 (+/-0.022) for {'n_estimators': 18, 'learning_rate': 0.80000000000000004}\n",
      "0.963 (+/-0.020) for {'n_estimators': 21, 'learning_rate': 0.80000000000000004}\n",
      "0.956 (+/-0.021) for {'n_estimators': 23, 'learning_rate': 0.80000000000000004}\n",
      "0.956 (+/-0.021) for {'n_estimators': 25, 'learning_rate': 0.80000000000000004}\n",
      "0.953 (+/-0.029) for {'n_estimators': 27, 'learning_rate': 0.80000000000000004}\n",
      "0.957 (+/-0.016) for {'n_estimators': 29, 'learning_rate': 0.80000000000000004}\n",
      "0.957 (+/-0.016) for {'n_estimators': 31, 'learning_rate': 0.80000000000000004}\n",
      "0.957 (+/-0.016) for {'n_estimators': 33, 'learning_rate': 0.80000000000000004}\n",
      "0.957 (+/-0.016) for {'n_estimators': 35, 'learning_rate': 0.80000000000000004}\n",
      "0.959 (+/-0.020) for {'n_estimators': 37, 'learning_rate': 0.80000000000000004}\n",
      "0.957 (+/-0.024) for {'n_estimators': 40, 'learning_rate': 0.80000000000000004}\n",
      "0.804 (+/-0.067) for {'n_estimators': 2, 'learning_rate': 0.90000000000000002}\n",
      "0.885 (+/-0.042) for {'n_estimators': 4, 'learning_rate': 0.90000000000000002}\n",
      "0.939 (+/-0.048) for {'n_estimators': 6, 'learning_rate': 0.90000000000000002}\n",
      "0.939 (+/-0.051) for {'n_estimators': 8, 'learning_rate': 0.90000000000000002}\n",
      "0.957 (+/-0.027) for {'n_estimators': 10, 'learning_rate': 0.90000000000000002}\n",
      "0.961 (+/-0.015) for {'n_estimators': 12, 'learning_rate': 0.90000000000000002}\n",
      "0.959 (+/-0.024) for {'n_estimators': 14, 'learning_rate': 0.90000000000000002}\n",
      "0.952 (+/-0.027) for {'n_estimators': 16, 'learning_rate': 0.90000000000000002}\n",
      "0.956 (+/-0.016) for {'n_estimators': 18, 'learning_rate': 0.90000000000000002}\n",
      "0.956 (+/-0.021) for {'n_estimators': 21, 'learning_rate': 0.90000000000000002}\n",
      "0.956 (+/-0.021) for {'n_estimators': 23, 'learning_rate': 0.90000000000000002}\n",
      "0.957 (+/-0.016) for {'n_estimators': 25, 'learning_rate': 0.90000000000000002}\n",
      "0.956 (+/-0.027) for {'n_estimators': 27, 'learning_rate': 0.90000000000000002}\n",
      "0.956 (+/-0.030) for {'n_estimators': 29, 'learning_rate': 0.90000000000000002}\n",
      "0.956 (+/-0.027) for {'n_estimators': 31, 'learning_rate': 0.90000000000000002}\n",
      "0.955 (+/-0.032) for {'n_estimators': 33, 'learning_rate': 0.90000000000000002}\n",
      "0.953 (+/-0.038) for {'n_estimators': 35, 'learning_rate': 0.90000000000000002}\n",
      "0.957 (+/-0.024) for {'n_estimators': 37, 'learning_rate': 0.90000000000000002}\n",
      "0.956 (+/-0.027) for {'n_estimators': 40, 'learning_rate': 0.90000000000000002}\n",
      "0.808 (+/-0.078) for {'n_estimators': 2, 'learning_rate': 1.0}\n",
      "0.885 (+/-0.042) for {'n_estimators': 4, 'learning_rate': 1.0}\n",
      "0.939 (+/-0.048) for {'n_estimators': 6, 'learning_rate': 1.0}\n",
      "0.940 (+/-0.055) for {'n_estimators': 8, 'learning_rate': 1.0}\n",
      "0.960 (+/-0.031) for {'n_estimators': 10, 'learning_rate': 1.0}\n",
      "0.965 (+/-0.019) for {'n_estimators': 12, 'learning_rate': 1.0}\n",
      "0.961 (+/-0.020) for {'n_estimators': 14, 'learning_rate': 1.0}\n",
      "0.956 (+/-0.027) for {'n_estimators': 16, 'learning_rate': 1.0}\n",
      "0.960 (+/-0.018) for {'n_estimators': 18, 'learning_rate': 1.0}\n",
      "0.959 (+/-0.020) for {'n_estimators': 21, 'learning_rate': 1.0}\n",
      "0.956 (+/-0.027) for {'n_estimators': 23, 'learning_rate': 1.0}\n",
      "0.955 (+/-0.037) for {'n_estimators': 25, 'learning_rate': 1.0}\n",
      "0.953 (+/-0.042) for {'n_estimators': 27, 'learning_rate': 1.0}\n",
      "0.957 (+/-0.035) for {'n_estimators': 29, 'learning_rate': 1.0}\n",
      "0.959 (+/-0.029) for {'n_estimators': 31, 'learning_rate': 1.0}\n",
      "0.953 (+/-0.046) for {'n_estimators': 33, 'learning_rate': 1.0}\n",
      "0.953 (+/-0.046) for {'n_estimators': 35, 'learning_rate': 1.0}\n",
      "0.956 (+/-0.033) for {'n_estimators': 37, 'learning_rate': 1.0}\n",
      "0.956 (+/-0.033) for {'n_estimators': 40, 'learning_rate': 1.0}\n",
      "0.784 (+/-0.108) for {'n_estimators': 2, 'learning_rate': 1.1000000000000001}\n",
      "0.861 (+/-0.059) for {'n_estimators': 4, 'learning_rate': 1.1000000000000001}\n",
      "0.941 (+/-0.051) for {'n_estimators': 6, 'learning_rate': 1.1000000000000001}\n",
      "0.941 (+/-0.060) for {'n_estimators': 8, 'learning_rate': 1.1000000000000001}\n",
      "0.957 (+/-0.035) for {'n_estimators': 10, 'learning_rate': 1.1000000000000001}\n",
      "0.964 (+/-0.016) for {'n_estimators': 12, 'learning_rate': 1.1000000000000001}\n",
      "0.964 (+/-0.030) for {'n_estimators': 14, 'learning_rate': 1.1000000000000001}\n",
      "0.956 (+/-0.030) for {'n_estimators': 16, 'learning_rate': 1.1000000000000001}\n",
      "0.952 (+/-0.046) for {'n_estimators': 18, 'learning_rate': 1.1000000000000001}\n",
      "0.959 (+/-0.023) for {'n_estimators': 21, 'learning_rate': 1.1000000000000001}\n",
      "0.960 (+/-0.018) for {'n_estimators': 23, 'learning_rate': 1.1000000000000001}\n",
      "0.960 (+/-0.022) for {'n_estimators': 25, 'learning_rate': 1.1000000000000001}\n",
      "0.960 (+/-0.022) for {'n_estimators': 27, 'learning_rate': 1.1000000000000001}\n",
      "0.961 (+/-0.023) for {'n_estimators': 29, 'learning_rate': 1.1000000000000001}\n",
      "0.960 (+/-0.025) for {'n_estimators': 31, 'learning_rate': 1.1000000000000001}\n",
      "0.960 (+/-0.025) for {'n_estimators': 33, 'learning_rate': 1.1000000000000001}\n",
      "0.956 (+/-0.041) for {'n_estimators': 35, 'learning_rate': 1.1000000000000001}\n",
      "0.957 (+/-0.035) for {'n_estimators': 37, 'learning_rate': 1.1000000000000001}\n",
      "0.959 (+/-0.039) for {'n_estimators': 40, 'learning_rate': 1.1000000000000001}\n",
      "0.785 (+/-0.108) for {'n_estimators': 2, 'learning_rate': 1.2000000000000002}\n",
      "0.863 (+/-0.069) for {'n_estimators': 4, 'learning_rate': 1.2000000000000002}\n",
      "0.945 (+/-0.046) for {'n_estimators': 6, 'learning_rate': 1.2000000000000002}\n",
      "0.947 (+/-0.060) for {'n_estimators': 8, 'learning_rate': 1.2000000000000002}\n",
      "0.953 (+/-0.034) for {'n_estimators': 10, 'learning_rate': 1.2000000000000002}\n",
      "0.963 (+/-0.035) for {'n_estimators': 12, 'learning_rate': 1.2000000000000002}\n",
      "0.963 (+/-0.035) for {'n_estimators': 14, 'learning_rate': 1.2000000000000002}\n",
      "0.960 (+/-0.026) for {'n_estimators': 16, 'learning_rate': 1.2000000000000002}\n",
      "0.959 (+/-0.024) for {'n_estimators': 18, 'learning_rate': 1.2000000000000002}\n",
      "0.957 (+/-0.024) for {'n_estimators': 21, 'learning_rate': 1.2000000000000002}\n",
      "0.957 (+/-0.024) for {'n_estimators': 23, 'learning_rate': 1.2000000000000002}\n",
      "0.959 (+/-0.020) for {'n_estimators': 25, 'learning_rate': 1.2000000000000002}\n",
      "0.959 (+/-0.020) for {'n_estimators': 27, 'learning_rate': 1.2000000000000002}\n",
      "0.959 (+/-0.020) for {'n_estimators': 29, 'learning_rate': 1.2000000000000002}\n",
      "0.957 (+/-0.027) for {'n_estimators': 31, 'learning_rate': 1.2000000000000002}\n",
      "0.956 (+/-0.033) for {'n_estimators': 33, 'learning_rate': 1.2000000000000002}\n",
      "0.955 (+/-0.032) for {'n_estimators': 35, 'learning_rate': 1.2000000000000002}\n",
      "0.956 (+/-0.030) for {'n_estimators': 37, 'learning_rate': 1.2000000000000002}\n",
      "0.956 (+/-0.030) for {'n_estimators': 40, 'learning_rate': 1.2000000000000002}\n",
      "0.785 (+/-0.108) for {'n_estimators': 2, 'learning_rate': 1.3}\n",
      "0.857 (+/-0.067) for {'n_estimators': 4, 'learning_rate': 1.3}\n",
      "0.941 (+/-0.051) for {'n_estimators': 6, 'learning_rate': 1.3}\n",
      "0.949 (+/-0.053) for {'n_estimators': 8, 'learning_rate': 1.3}\n",
      "0.957 (+/-0.045) for {'n_estimators': 10, 'learning_rate': 1.3}\n",
      "0.957 (+/-0.035) for {'n_estimators': 12, 'learning_rate': 1.3}\n",
      "0.959 (+/-0.024) for {'n_estimators': 14, 'learning_rate': 1.3}\n",
      "0.959 (+/-0.024) for {'n_estimators': 16, 'learning_rate': 1.3}\n",
      "0.956 (+/-0.033) for {'n_estimators': 18, 'learning_rate': 1.3}\n",
      "0.957 (+/-0.016) for {'n_estimators': 21, 'learning_rate': 1.3}\n",
      "0.957 (+/-0.016) for {'n_estimators': 23, 'learning_rate': 1.3}\n",
      "0.956 (+/-0.021) for {'n_estimators': 25, 'learning_rate': 1.3}\n",
      "0.957 (+/-0.024) for {'n_estimators': 27, 'learning_rate': 1.3}\n",
      "0.957 (+/-0.024) for {'n_estimators': 29, 'learning_rate': 1.3}\n",
      "0.956 (+/-0.028) for {'n_estimators': 31, 'learning_rate': 1.3}\n",
      "0.956 (+/-0.028) for {'n_estimators': 33, 'learning_rate': 1.3}\n",
      "0.957 (+/-0.030) for {'n_estimators': 35, 'learning_rate': 1.3}\n",
      "0.959 (+/-0.023) for {'n_estimators': 37, 'learning_rate': 1.3}\n",
      "0.955 (+/-0.037) for {'n_estimators': 40, 'learning_rate': 1.3}\n",
      "0.785 (+/-0.108) for {'n_estimators': 2, 'learning_rate': 1.3999999999999999}\n",
      "0.857 (+/-0.067) for {'n_estimators': 4, 'learning_rate': 1.3999999999999999}\n",
      "0.941 (+/-0.051) for {'n_estimators': 6, 'learning_rate': 1.3999999999999999}\n",
      "0.949 (+/-0.053) for {'n_estimators': 8, 'learning_rate': 1.3999999999999999}\n",
      "0.955 (+/-0.039) for {'n_estimators': 10, 'learning_rate': 1.3999999999999999}\n",
      "0.959 (+/-0.024) for {'n_estimators': 12, 'learning_rate': 1.3999999999999999}\n",
      "0.959 (+/-0.024) for {'n_estimators': 14, 'learning_rate': 1.3999999999999999}\n",
      "0.960 (+/-0.026) for {'n_estimators': 16, 'learning_rate': 1.3999999999999999}\n",
      "0.959 (+/-0.032) for {'n_estimators': 18, 'learning_rate': 1.3999999999999999}\n",
      "0.956 (+/-0.040) for {'n_estimators': 21, 'learning_rate': 1.3999999999999999}\n",
      "0.955 (+/-0.045) for {'n_estimators': 23, 'learning_rate': 1.3999999999999999}\n",
      "0.956 (+/-0.041) for {'n_estimators': 25, 'learning_rate': 1.3999999999999999}\n",
      "0.957 (+/-0.035) for {'n_estimators': 27, 'learning_rate': 1.3999999999999999}\n",
      "0.956 (+/-0.033) for {'n_estimators': 29, 'learning_rate': 1.3999999999999999}\n",
      "0.956 (+/-0.033) for {'n_estimators': 31, 'learning_rate': 1.3999999999999999}\n",
      "0.956 (+/-0.028) for {'n_estimators': 33, 'learning_rate': 1.3999999999999999}\n",
      "0.955 (+/-0.030) for {'n_estimators': 35, 'learning_rate': 1.3999999999999999}\n",
      "0.953 (+/-0.034) for {'n_estimators': 37, 'learning_rate': 1.3999999999999999}\n",
      "0.949 (+/-0.041) for {'n_estimators': 40, 'learning_rate': 1.3999999999999999}\n",
      "0.785 (+/-0.108) for {'n_estimators': 2, 'learning_rate': 1.5}\n",
      "0.837 (+/-0.099) for {'n_estimators': 4, 'learning_rate': 1.5}\n",
      "0.940 (+/-0.046) for {'n_estimators': 6, 'learning_rate': 1.5}\n",
      "0.939 (+/-0.073) for {'n_estimators': 8, 'learning_rate': 1.5}\n",
      "0.953 (+/-0.044) for {'n_estimators': 10, 'learning_rate': 1.5}\n",
      "0.955 (+/-0.069) for {'n_estimators': 12, 'learning_rate': 1.5}\n",
      "0.959 (+/-0.030) for {'n_estimators': 14, 'learning_rate': 1.5}\n",
      "0.955 (+/-0.050) for {'n_estimators': 16, 'learning_rate': 1.5}\n",
      "0.951 (+/-0.033) for {'n_estimators': 18, 'learning_rate': 1.5}\n",
      "0.955 (+/-0.041) for {'n_estimators': 21, 'learning_rate': 1.5}\n",
      "0.956 (+/-0.042) for {'n_estimators': 23, 'learning_rate': 1.5}\n",
      "0.955 (+/-0.037) for {'n_estimators': 25, 'learning_rate': 1.5}\n",
      "0.957 (+/-0.035) for {'n_estimators': 27, 'learning_rate': 1.5}\n",
      "0.957 (+/-0.028) for {'n_estimators': 29, 'learning_rate': 1.5}\n",
      "0.953 (+/-0.034) for {'n_estimators': 31, 'learning_rate': 1.5}\n",
      "0.956 (+/-0.028) for {'n_estimators': 33, 'learning_rate': 1.5}\n",
      "0.956 (+/-0.028) for {'n_estimators': 35, 'learning_rate': 1.5}\n",
      "0.953 (+/-0.038) for {'n_estimators': 37, 'learning_rate': 1.5}\n",
      "0.959 (+/-0.032) for {'n_estimators': 40, 'learning_rate': 1.5}\n",
      "Detailed classification report:\n",
      "             precision    recall  f1-score   support\n",
      "\n",
      "        0.0       0.88      0.89      0.89        84\n",
      "        1.0       0.95      0.94      0.94       166\n",
      "\n",
      "avg / total       0.92      0.92      0.92       250\n",
      "\n"
     ]
    },
    {
     "data": {
      "image/png": "[encoded data removed]",
      "text/plain": [
       "<matplotlib.figure.Figure at 0x176ee3c8>"
      ]
     },
     "metadata": {},
     "output_type": "display_data"
    }
   ],
   "source": [
    "n_estimators_range = np.linspace(2, 40, 19).astype(int)\n",
    "learning_rate_range = np.linspace(0.5, 1.5, 11)\n",
    "param_grid = dict(learning_rate=learning_rate_range, n_estimators=n_estimators_range)\n",
    "clf = parameters_search(AdaBoostClassifier(random_state=0), param_grid, features_train, labels_train, features_test, labels_test)\n",
    "try:\n",
    "    prettyPicture(clf, features_test, labels_test)\n",
    "except NameError:\n",
    "    pass\n",
    "\n",
    "#clf = AdaBoostClassifier()\n",
    "#for g in ParameterGrid(param_grid):\n",
    "#    clf.set_params(**g)\n",
    "#    clf.fit(features_train, labels_train)\n",
    "#    print \"%s -> accuracy = %s\" % (g, clf.score(features_test, labels_test))"
   ]
  },
  {
   "cell_type": "markdown",
   "metadata": {},
   "source": [
    "RandomForestClassifier"
   ]
  },
  {
   "cell_type": "code",
   "execution_count": 132,
   "metadata": {
    "collapsed": false
   },
   "outputs": [
    {
     "name": "stdout",
     "output_type": "stream",
     "text": [
      "Best parameters set found on development set:\n",
      "{'n_estimators': 18} --> accuracy = 0.924\n",
      "Grid scores on development set:\n",
      "0.960 (+/-0.025) for {'n_estimators': 15}\n",
      "0.959 (+/-0.015) for {'n_estimators': 16}\n",
      "0.960 (+/-0.018) for {'n_estimators': 17}\n",
      "0.961 (+/-0.015) for {'n_estimators': 18}\n",
      "0.959 (+/-0.015) for {'n_estimators': 19}\n",
      "0.961 (+/-0.015) for {'n_estimators': 20}\n",
      "0.957 (+/-0.010) for {'n_estimators': 21}\n",
      "0.957 (+/-0.020) for {'n_estimators': 22}\n",
      "0.959 (+/-0.015) for {'n_estimators': 23}\n",
      "0.955 (+/-0.015) for {'n_estimators': 24}\n",
      "0.956 (+/-0.016) for {'n_estimators': 25}\n",
      "Detailed classification report:\n",
      "             precision    recall  f1-score   support\n",
      "\n",
      "        0.0       0.88      0.89      0.89        84\n",
      "        1.0       0.95      0.94      0.94       166\n",
      "\n",
      "avg / total       0.92      0.92      0.92       250\n",
      "\n"
     ]
    },
    {
     "data": {
      "image/png": "[encoded data removed]",
      "text/plain": [
       "<matplotlib.figure.Figure at 0x1770cc18>"
      ]
     },
     "metadata": {},
     "output_type": "display_data"
    }
   ],
   "source": [
    "param_grid = dict()\n",
    "param_grid['n_estimators'] = np.linspace(15, 25, 11).astype(int)\n",
    "#param_grid['n_estimators'] = np.linspace(15, 25, 11).astype(int)\n",
    "#param_grid['max_features'] = np.linspace(1, len(features_train[0]), 6).astype(int)\n",
    "#param_grid['max_depth'] = np.linspace(1000, 100000000, 11).astype(int)\n",
    "#param_grid['min_samples_split'] = np.linspace(1, 15, 16).astype(int)\n",
    "#param_grid['min_samples_leaf'] = np.linspace(1, 5, 5).astype(int)\n",
    "clf = parameters_search(RandomForestClassifier(random_state=0,criterion=\"entropy\",n_estimators=18,min_samples_split=7,min_samples_leaf=1),\n",
    "                        param_grid, features_train, labels_train, features_test, labels_test)\n",
    "try:\n",
    "    prettyPicture(clf, features_test, labels_test)\n",
    "except NameError:\n",
    "    pass"
   ]
  },
  {
   "cell_type": "markdown",
   "metadata": {},
   "source": [
    "k-nn\n",
    "param_grid = dict()\n",
    "param_grid['n_neighbors'] = np.linspace(10, 20, 11).astype(int)\n",
    "param_grid['algorithm'] = ['auto', 'ball_tree', 'kd_tree', 'brute']\n",
    "param_grid['weights'] = ['uniform', 'distance']\n",
    "param_grid['leaf_size'] = np.linspace(1, 3, 3).astype(int)\n",
    "param_grid['p'] = np.linspace(1, 3, 3).astype(int)\n",
    "clf = parameters_search(KNeighborsClassifier(),\n",
    "                        param_grid, features_train, labels_train, features_test, labels_test)\n",
    "try:\n",
    "    prettyPicture(clf, features_test, labels_test)\n",
    "except NameError:\n",
    "    pass"
   ]
  },
  {
   "cell_type": "code",
   "execution_count": 165,
   "metadata": {
    "collapsed": false
   },
   "outputs": [
    {
     "name": "stdout",
     "output_type": "stream",
     "text": [
      "Best parameters set found on development set:\n",
      "{'n_neighbors': 11, 'p': 1} --> accuracy = 0.94\n",
      "Grid scores on development set:\n",
      "0.953 (+/-0.044) for {'n_neighbors': 10, 'p': 1}\n",
      "0.955 (+/-0.029) for {'n_neighbors': 10, 'p': 2}\n",
      "0.953 (+/-0.025) for {'n_neighbors': 10, 'p': 3}\n",
      "0.959 (+/-0.043) for {'n_neighbors': 11, 'p': 1}\n",
      "0.955 (+/-0.029) for {'n_neighbors': 11, 'p': 2}\n",
      "0.953 (+/-0.022) for {'n_neighbors': 11, 'p': 3}\n",
      "0.956 (+/-0.037) for {'n_neighbors': 12, 'p': 1}\n",
      "0.956 (+/-0.020) for {'n_neighbors': 12, 'p': 2}\n",
      "0.953 (+/-0.025) for {'n_neighbors': 12, 'p': 3}\n",
      "0.959 (+/-0.032) for {'n_neighbors': 13, 'p': 1}\n",
      "0.959 (+/-0.036) for {'n_neighbors': 13, 'p': 2}\n",
      "0.957 (+/-0.041) for {'n_neighbors': 13, 'p': 3}\n",
      "0.955 (+/-0.034) for {'n_neighbors': 14, 'p': 1}\n",
      "0.957 (+/-0.020) for {'n_neighbors': 14, 'p': 2}\n",
      "0.956 (+/-0.020) for {'n_neighbors': 14, 'p': 3}\n",
      "0.956 (+/-0.039) for {'n_neighbors': 15, 'p': 1}\n",
      "0.953 (+/-0.036) for {'n_neighbors': 15, 'p': 2}\n",
      "0.955 (+/-0.029) for {'n_neighbors': 15, 'p': 3}\n",
      "0.956 (+/-0.032) for {'n_neighbors': 16, 'p': 1}\n",
      "0.955 (+/-0.029) for {'n_neighbors': 16, 'p': 2}\n",
      "0.955 (+/-0.026) for {'n_neighbors': 16, 'p': 3}\n",
      "0.952 (+/-0.041) for {'n_neighbors': 17, 'p': 1}\n",
      "0.957 (+/-0.041) for {'n_neighbors': 17, 'p': 2}\n",
      "0.955 (+/-0.046) for {'n_neighbors': 17, 'p': 3}\n",
      "0.953 (+/-0.028) for {'n_neighbors': 18, 'p': 1}\n",
      "0.957 (+/-0.041) for {'n_neighbors': 18, 'p': 2}\n",
      "0.955 (+/-0.043) for {'n_neighbors': 18, 'p': 3}\n",
      "0.952 (+/-0.034) for {'n_neighbors': 19, 'p': 1}\n",
      "0.955 (+/-0.043) for {'n_neighbors': 19, 'p': 2}\n",
      "0.955 (+/-0.043) for {'n_neighbors': 19, 'p': 3}\n",
      "0.955 (+/-0.034) for {'n_neighbors': 20, 'p': 1}\n",
      "0.953 (+/-0.047) for {'n_neighbors': 20, 'p': 2}\n",
      "0.955 (+/-0.043) for {'n_neighbors': 20, 'p': 3}\n",
      "Detailed classification report:\n",
      "             precision    recall  f1-score   support\n",
      "\n",
      "        0.0       0.90      0.93      0.91        84\n",
      "        1.0       0.96      0.95      0.95       166\n",
      "\n",
      "avg / total       0.94      0.94      0.94       250\n",
      "\n"
     ]
    },
    {
     "data": {
      "image/png": "[encoded data removed]",
      "text/plain": [
       "<matplotlib.figure.Figure at 0x192e01d0>"
      ]
     },
     "metadata": {},
     "output_type": "display_data"
    }
   ],
   "source": [
    "param_grid = dict()\n",
    "#param_grid['weights'] = ['uniform', 'distance']\n",
    "param_grid['n_neighbors'] = np.linspace(10, 20, 11).astype(int)\n",
    "#param_grid['algorithm'] = ['auto', 'ball_tree', 'kd_tree', 'brute']\n",
    "#param_grid['leaf_size'] = np.linspace(1, 3, 3).astype(int)\n",
    "param_grid['p'] = np.linspace(1, 3, 3).astype(int)\n",
    "clf = parameters_search(KNeighborsClassifier(weights='distance',\n",
    "                                             n_neighbors=11,\n",
    "                                             leaf_size=30,\n",
    "                                             algorithm='auto',\n",
    "                                             p=1),\n",
    "                        param_grid, features_train, labels_train, features_test, labels_test)\n",
    "try:\n",
    "    prettyPicture(clf, features_test, labels_test)\n",
    "except NameError:\n",
    "    pass"
   ]
  }
 ],
 "metadata": {
  "kernelspec": {
   "display_name": "Python 2",
   "language": "python",
   "name": "python2"
  },
  "language_info": {
   "codemirror_mode": {
    "name": "ipython",
    "version": 2
   },
   "file_extension": ".py",
   "mimetype": "text/x-python",
   "name": "python",
   "nbconvert_exporter": "python",
   "pygments_lexer": "ipython2",
   "version": "2.7.11"
  }
 },
 "nbformat": 4,
 "nbformat_minor": 0
}
